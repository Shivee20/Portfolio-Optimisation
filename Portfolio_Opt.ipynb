{
  "nbformat": 4,
  "nbformat_minor": 0,
  "metadata": {
    "colab": {
      "provenance": []
    },
    "kernelspec": {
      "name": "python3",
      "display_name": "Python 3"
    },
    "language_info": {
      "name": "python"
    }
  },
  "cells": [
    {
      "cell_type": "markdown",
      "source": [
        "# **Portfolio Optimisation**"
      ],
      "metadata": {
        "id": "THMxO7yV4RfC"
      }
    },
    {
      "cell_type": "code",
      "execution_count": null,
      "metadata": {
        "id": "bDjhcOf4zrR8"
      },
      "outputs": [],
      "source": [
        "import yfinance as yf\n",
        "import pandas as pd\n",
        "import numpy as np\n",
        "from datetime import datetime, timedelta\n",
        "import matplotlib.pyplot as plt\n",
        "from scipy.optimize import minimize\n"
      ]
    },
    {
      "cell_type": "code",
      "source": [
        "tickers = [\"ASIANPAINT.NS\",\"SBIN.NS\",\"TATAMOTORS.NS\"]"
      ],
      "metadata": {
        "id": "WuuXu7j90bvb"
      },
      "execution_count": null,
      "outputs": []
    },
    {
      "cell_type": "code",
      "source": [
        "end_date = datetime.now()\n",
        "start_date = end_date - timedelta(days=10*365)\n",
        "print(start_date)"
      ],
      "metadata": {
        "colab": {
          "base_uri": "https://localhost:8080/"
        },
        "id": "F6868wC60vdz",
        "outputId": "81e11690-eb95-48ce-80a6-e9f78ab1471d"
      },
      "execution_count": null,
      "outputs": [
        {
          "output_type": "stream",
          "name": "stdout",
          "text": [
            "2014-07-02 10:01:37.344889\n"
          ]
        }
      ]
    },
    {
      "cell_type": "markdown",
      "source": [
        "**Adjusted Close Price**"
      ],
      "metadata": {
        "id": "Yir8YyQ61YaW"
      }
    },
    {
      "cell_type": "code",
      "source": [
        "adj_close_df = pd.DataFrame()\n",
        "for ticker in tickers:\n",
        "    adj_close_df[ticker] = yf.download(ticker, start=start_date, end=end_date, interval=\"1d\")[\"Adj Close\"]"
      ],
      "metadata": {
        "colab": {
          "base_uri": "https://localhost:8080/"
        },
        "id": "Q_TVSYWM1X5x",
        "outputId": "a13fbefa-f931-403f-be27-1d4d20549f49"
      },
      "execution_count": null,
      "outputs": [
        {
          "output_type": "stream",
          "name": "stderr",
          "text": [
            "[*********************100%%**********************]  1 of 1 completed\n",
            "[*********************100%%**********************]  1 of 1 completed\n",
            "[*********************100%%**********************]  1 of 1 completed\n"
          ]
        }
      ]
    },
    {
      "cell_type": "code",
      "source": [
        "print(adj_close_df)"
      ],
      "metadata": {
        "colab": {
          "base_uri": "https://localhost:8080/"
        },
        "id": "dNOQ89aT2K26",
        "outputId": "e7a07ead-148d-4b79-d1a9-86cb9397fa55"
      },
      "execution_count": null,
      "outputs": [
        {
          "output_type": "stream",
          "name": "stdout",
          "text": [
            "            ASIANPAINT.NS     SBIN.NS  TATAMOTORS.NS\n",
            "Date                                                \n",
            "2014-07-02     541.891357  245.698563     446.090973\n",
            "2014-07-03     539.710999  245.148514     459.743866\n",
            "2014-07-04     546.159363  245.321228     459.450256\n",
            "2014-07-07     550.751953  244.102875     468.649963\n",
            "2014-07-08     547.504700  234.146729     459.988495\n",
            "...                   ...         ...            ...\n",
            "2024-06-24    2896.050049  832.700012     958.049988\n",
            "2024-06-25    2858.449951  842.250000     955.000000\n",
            "2024-06-26    2863.350098  845.349976     951.849976\n",
            "2024-06-27    2880.850098  844.000000     972.099976\n",
            "2024-06-28    2917.050049  848.950012     989.750000\n",
            "\n",
            "[2461 rows x 3 columns]\n"
          ]
        }
      ]
    },
    {
      "cell_type": "markdown",
      "source": [
        "Lognormal returns\n"
      ],
      "metadata": {
        "id": "udXXixFf_r2h"
      }
    },
    {
      "cell_type": "code",
      "source": [
        "log_returns = np.log(adj_close_df / adj_close_df.shift(1))\n",
        "log_returns.dropna(inplace=True)"
      ],
      "metadata": {
        "id": "tUg9zkKT4diz"
      },
      "execution_count": null,
      "outputs": []
    },
    {
      "cell_type": "markdown",
      "source": [
        "**Variance-Covariance Matrix**"
      ],
      "metadata": {
        "id": "YbrBY-SuA2Bn"
      }
    },
    {
      "cell_type": "code",
      "source": [
        "cov_matrix = log_returns.cov()*252\n",
        "print(cov_matrix)"
      ],
      "metadata": {
        "colab": {
          "base_uri": "https://localhost:8080/"
        },
        "id": "Y24FetB7A1n5",
        "outputId": "0e24cf6f-5ece-4228-c71e-0775fae86335"
      },
      "execution_count": null,
      "outputs": [
        {
          "output_type": "stream",
          "name": "stdout",
          "text": [
            "               ASIANPAINT.NS   SBIN.NS  TATAMOTORS.NS\n",
            "ASIANPAINT.NS       0.064917  0.022189       0.027438\n",
            "SBIN.NS             0.022189  0.114441       0.061389\n",
            "TATAMOTORS.NS       0.027438  0.061389       0.173486\n"
          ]
        }
      ]
    },
    {
      "cell_type": "markdown",
      "source": [
        "Standard Deviation"
      ],
      "metadata": {
        "id": "F19gd2n_lwna"
      }
    },
    {
      "cell_type": "code",
      "source": [
        "def std_dev(weights, cov_matrix):\n",
        "  variance = np.dot(weights.T, np.dot(cov_matrix, weights))\n",
        "  std = np.sqrt(variance)\n",
        "  return std"
      ],
      "metadata": {
        "id": "456fPW7KBUoo"
      },
      "execution_count": null,
      "outputs": []
    },
    {
      "cell_type": "markdown",
      "source": [
        "Expected Returns"
      ],
      "metadata": {
        "id": "muB9XadDlzef"
      }
    },
    {
      "cell_type": "code",
      "source": [
        "def expected_returns(weights, log_returns):\n",
        "  expected_return = np.sum(log_returns.mean() * weights)*252\n",
        "  return expected_return"
      ],
      "metadata": {
        "id": "NdSiT0-qVVja"
      },
      "execution_count": null,
      "outputs": []
    },
    {
      "cell_type": "markdown",
      "source": [
        "Sharpe Ratio"
      ],
      "metadata": {
        "id": "lgSshFLGl226"
      }
    },
    {
      "cell_type": "code",
      "source": [
        "def calc_sharpe_ratio(weights, log_returns, cov_matrix, risk_free_rate):\n",
        "  expected_return = expected_returns(weights, log_returns)\n",
        "  std = std_dev(weights, cov_matrix)\n",
        "  sharpe_ratio = (expected_return - risk_free_rate) / std\n",
        "  return sharpe_ratio"
      ],
      "metadata": {
        "id": "Y0k-cb1GWw-l"
      },
      "execution_count": null,
      "outputs": []
    },
    {
      "cell_type": "code",
      "source": [
        "risk_free_rate = 7.14/100    # Risk free rate is taken as India 10 year bond yiels from investing.com"
      ],
      "metadata": {
        "id": "OpI_Ncb-Zjzu"
      },
      "execution_count": null,
      "outputs": []
    },
    {
      "cell_type": "code",
      "source": [
        "def negative_sharpe_ratio(weights, log_returns, cov_matrix, risk_free_rate):\n",
        "  sharpe_ratio = calc_sharpe_ratio(weights, log_returns, cov_matrix, risk_free_rate)\n",
        "  return -sharpe_ratio"
      ],
      "metadata": {
        "id": "lgaN0cpGadz9"
      },
      "execution_count": null,
      "outputs": []
    },
    {
      "cell_type": "code",
      "source": [
        "constraints = ({'type': 'eq', 'fun': lambda weights: np.sum(weights) - 1})\n",
        "bounds = tuple((0, 1) for _ in range(len(tickers)))"
      ],
      "metadata": {
        "id": "PJTNlPSeaysz"
      },
      "execution_count": null,
      "outputs": []
    },
    {
      "cell_type": "code",
      "source": [
        "initial_weights = [0.4,0.3,0.3]"
      ],
      "metadata": {
        "id": "E5VVb_GBb5mG"
      },
      "execution_count": null,
      "outputs": []
    },
    {
      "cell_type": "code",
      "source": [
        "optimized_weights = minimize(negative_sharpe_ratio, initial_weights, args=(log_returns, cov_matrix, risk_free_rate), method='SLSQP', bounds=bounds, constraints=constraints)"
      ],
      "metadata": {
        "id": "MgPPpNCddcEi"
      },
      "execution_count": null,
      "outputs": []
    },
    {
      "cell_type": "code",
      "source": [
        "print(\"Optimal Weights:\")\n",
        "for ticker, weight in zip(tickers, optimized_weights.x):\n",
        "    print(f\"{ticker}: {weight:.2f}\")\n",
        "\n",
        "print()\n",
        "\n",
        "print(\"Expected Return:\", expected_returns(optimized_weights.x, log_returns))\n",
        "print(\"Standard Deviation:\", std_dev(optimized_weights.x, cov_matrix))\n",
        "print(\"Sharpe Ratio:\", calc_sharpe_ratio(optimized_weights.x, log_returns, cov_matrix, risk_free_rate))"
      ],
      "metadata": {
        "colab": {
          "base_uri": "https://localhost:8080/"
        },
        "id": "hVMVl7f7d-7d",
        "outputId": "c0188901-ce3c-4d1a-8c60-7834ef3083a9"
      },
      "execution_count": null,
      "outputs": [
        {
          "output_type": "stream",
          "name": "stdout",
          "text": [
            "Optimal Weights:\n",
            "ASIANPAINT.NS: 0.88\n",
            "SBIN.NS: 0.12\n",
            "TATAMOTORS.NS: 0.00\n",
            "\n",
            "Expected Return: 0.1671003664089412\n",
            "Standard Deviation: 0.2382139827729939\n",
            "Sharpe Ratio: 0.40174117948457666\n"
          ]
        }
      ]
    },
    {
      "cell_type": "markdown",
      "source": [
        "## **Value at Risk**"
      ],
      "metadata": {
        "id": "D7_ACIIBkRpR"
      }
    },
    {
      "cell_type": "code",
      "source": [
        "portfolio_value = 100000"
      ],
      "metadata": {
        "id": "rK-wME-ikOgo"
      },
      "execution_count": null,
      "outputs": []
    },
    {
      "cell_type": "code",
      "source": [
        "def random_z_score():\n",
        "  return np.random.normal(0,1)"
      ],
      "metadata": {
        "id": "bd6_4DqiiSD6"
      },
      "execution_count": null,
      "outputs": []
    },
    {
      "cell_type": "code",
      "source": [
        "def var_percent(weights, log_returns, cov_matrix, z_score):\n",
        "  expected_return = expected_returns(weights, log_returns)\n",
        "  std = std_dev(weights, cov_matrix)\n",
        "  z_score = random_z_score()\n",
        "  var = expected_return + (std * z_score)\n",
        "  return var"
      ],
      "metadata": {
        "id": "esdGY0uGldrf"
      },
      "execution_count": null,
      "outputs": []
    },
    {
      "cell_type": "markdown",
      "source": [
        "Monte Carlo Simulations"
      ],
      "metadata": {
        "id": "flC1IJG0qRc7"
      }
    },
    {
      "cell_type": "code",
      "source": [
        "simulations = 10000\n",
        "scenarios = [0.0]*10000\n",
        "\n",
        "for i in range(simulations):\n",
        "  z_score = random_z_score()\n",
        "  scenarios[i] = (var_percent(optimized_weights.x, log_returns, cov_matrix, z_score))"
      ],
      "metadata": {
        "id": "7B5Z5_GHqC_n"
      },
      "execution_count": 36,
      "outputs": []
    },
    {
      "cell_type": "code",
      "source": [
        "confidence = 0.95\n",
        "per = 1 - confidence\n",
        "var_per = np.percentile(scenarios,100*per)\n",
        "print(\"Value at Risk (95% Confidence):\", var_per)"
      ],
      "metadata": {
        "id": "wnRKeyBMiEgW",
        "colab": {
          "base_uri": "https://localhost:8080/"
        },
        "outputId": "c2031d31-5c08-483d-bc31-36ac4bcc3431"
      },
      "execution_count": 37,
      "outputs": [
        {
          "output_type": "stream",
          "name": "stdout",
          "text": [
            "Value at Risk (95% Confidence): -0.22709803768769674\n"
          ]
        }
      ]
    },
    {
      "cell_type": "code",
      "source": [
        "var_inr = var_per * portfolio_value\n",
        "print(\"Value at Risk (INR):\", var_inr)"
      ],
      "metadata": {
        "colab": {
          "base_uri": "https://localhost:8080/"
        },
        "id": "lg_5ImD_11Ux",
        "outputId": "7b49aac4-b19a-4a57-9db5-72f58c9384d9"
      },
      "execution_count": 33,
      "outputs": [
        {
          "output_type": "stream",
          "name": "stdout",
          "text": [
            "Value at Risk (INR): -22488.388705186902\n"
          ]
        }
      ]
    },
    {
      "cell_type": "code",
      "source": [
        "final_value = portfolio_value + var_inr\n",
        "print(\"Final Portfolio Value:\", final_value)"
      ],
      "metadata": {
        "colab": {
          "base_uri": "https://localhost:8080/"
        },
        "id": "nFCII3G43Col",
        "outputId": "649b914d-ed05-4544-ec2f-79ffc318fe83"
      },
      "execution_count": 34,
      "outputs": [
        {
          "output_type": "stream",
          "name": "stdout",
          "text": [
            "Final Portfolio Value: 77511.6112948131\n"
          ]
        }
      ]
    },
    {
      "cell_type": "code",
      "source": [
        "plt.hist(scenarios,bins = 100, density = True)\n",
        "plt.xlabel('Value at Risk')\n",
        "plt.ylabel('Frequency')\n",
        "plt.title('Distibution of Daily Value at Risk')\n",
        "plt.axvline(x=var_per,color = 'red', linestyle = '--', label = 'Value at Risk at 95% Confidence level')\n",
        "plt.legend()\n",
        "plt.show()"
      ],
      "metadata": {
        "colab": {
          "base_uri": "https://localhost:8080/",
          "height": 472
        },
        "id": "fMQWGhnm3TGz",
        "outputId": "d72a7cd5-9860-4057-bb44-68bf36366b41"
      },
      "execution_count": 38,
      "outputs": [
        {
          "output_type": "display_data",
          "data": {
            "text/plain": [
              "<Figure size 640x480 with 1 Axes>"
            ],
            "image/png": "[encoded data removed]"
          },
          "metadata": {}
        }
      ]
    }
  ]
}